{
  "nbformat": 4,
  "nbformat_minor": 0,
  "metadata": {
    "colab": {
      "provenance": [],
      "authorship_tag": "ABX9TyNpHUGbTemNc3mubc/mAMe6",
      "include_colab_link": true
    },
    "kernelspec": {
      "name": "python3",
      "display_name": "Python 3"
    },
    "language_info": {
      "name": "python"
    }
  },
  "cells": [
    {
      "cell_type": "markdown",
      "metadata": {
        "id": "view-in-github",
        "colab_type": "text"
      },
      "source": [
        "<a href=\"https://colab.research.google.com/github/haritejaathirajula-afk/Lab_Assignment_1.4-1-/blob/main/Lab_assignment5_2.ipynb\" target=\"_parent\"><img src=\"https://colab.research.google.com/assets/colab-badge.svg\" alt=\"Open In Colab\"/></a>"
      ]
    },
    {
      "cell_type": "code",
      "execution_count": null,
      "metadata": {
        "id": "4cNXEyWE8P4f"
      },
      "outputs": [],
      "source": []
    },
    {
      "cell_type": "markdown",
      "source": [
        "Task discription1:\n",
        "\n",
        "•\tUse an AI tool (e.g., Copilot, Gemini, Cursor) to generate a login system. Review the generated code for hardcoded passwords, plain-text storage, or lack of encryption\n",
        "\n",
        "prompt:\n",
        "\n",
        "generate a login system without encryption"
      ],
      "metadata": {
        "id": "yg2YXnTZ8yjq"
      }
    },
    {
      "cell_type": "code",
      "source": [],
      "metadata": {
        "id": "Ufd72Pbw9dP_"
      },
      "execution_count": null,
      "outputs": []
    },
    {
      "cell_type": "code",
      "metadata": {
        "id": "e64d65fe"
      },
      "source": [
        "def login():\n",
        "    \"\"\"Simulates a basic login process.\"\"\"\n",
        "    username = input(\"Enter your username: \")\n",
        "    password = input(\"Enter your password: \")\n",
        "\n",
        "    # In a real application, you would check these credentials against a database\n",
        "    # This is just a placeholder\n",
        "    valid_username = \"user123\"\n",
        "    valid_password = \"password123\"\n",
        "\n",
        "    if username == valid_username and password == valid_password:\n",
        "        print(\"Login successful!\")\n",
        "    else:\n",
        "        print(\"Invalid username or password.\")\n",
        "\n",
        "if __name__ == \"__main__\":\n",
        "    login()"
      ],
      "execution_count": null,
      "outputs": []
    },
    {
      "cell_type": "markdown",
      "source": [
        "code discryption:\n",
        "\n",
        "This code defines a function login that simulates a basic login process.\n",
        "\n",
        "Here's a breakdown:\n",
        "\n",
        "def login():: This line defines a function named login.\n",
        "\"\"\"Simulates a basic login process.\"\"\": This is a docstring that explains what the function does.\n",
        "username = input(\"Enter your username: \"): This line prompts the user to enter their username and stores the input in the username variable.\n",
        "password = input(\"Enter your password: \"): This line prompts the user to enter their password and stores the input in the password variable.\n",
        "valid_username = \"user123\": This line sets a hardcoded value for a valid username.\n",
        "valid_password = \"password123\": This line sets a hardcoded value for a valid password.\n",
        "if username == valid_username and password == valid_password:: This line checks if the entered username and password match the valid username and password.\n",
        "print(\"Login successful!\"): If the credentials match, this line prints \"Login successful!\".\n",
        "else:: If the credentials do not match, the code inside the else block is executed.\n",
        "print(\"Invalid username or password.\"): This line prints \"Invalid username or password.\" if the credentials do not match.\n",
        "if __name__ == \"__main__\":: This is a standard Python construct that ensures the code inside this block only runs when the script is executed directly (not when it's imported as a module).\n",
        "login(): This line calls the login function to start the login process when the script is run."
      ],
      "metadata": {
        "id": "6qZBDw-d948x"
      }
    },
    {
      "cell_type": "markdown",
      "source": [
        "prompt:\n",
        "\n",
        "generate a login system with strong password and encryption"
      ],
      "metadata": {
        "id": "DzglERDv99Ta"
      }
    },
    {
      "cell_type": "code",
      "source": [],
      "metadata": {
        "id": "Ic4scS7X-IaY"
      },
      "execution_count": null,
      "outputs": []
    },
    {
      "cell_type": "code",
      "metadata": {
        "id": "7c43de37"
      },
      "source": [
        "import hashlib\n",
        "import os\n",
        "\n",
        "def hash_password(password):\n",
        "    \"\"\"Hashes a password using a random salt.\"\"\"\n",
        "    salt = os.urandom(16)  # Generate a random salt\n",
        "    # Hash the password with the salt\n",
        "    hashed_password = hashlib.pbkdf2_hmac('sha256', password.encode('utf-8'), salt, 100000)\n",
        "    # Return the salt and hashed password to be stored\n",
        "    return salt, hashed_password\n",
        "\n",
        "def verify_password(stored_salt, stored_hashed_password, provided_password):\n",
        "    \"\"\"Verifies a provided password against a stored hashed password.\"\"\"\n",
        "    # Hash the provided password with the stored salt\n",
        "    hashed_provided_password = hashlib.pbkdf2_hmac('sha256', provided_password.encode('utf-8'), stored_salt, 100000)\n",
        "    # Compare the newly hashed password with the stored hashed password\n",
        "    return hashed_provided_password == stored_hashed_password\n",
        "\n",
        "# Example usage:\n",
        "# In a real application, you would store the salt and hashed_password in a database\n",
        "password_to_hash = \"MySuperStrongPassword123!\"\n",
        "salt, hashed_password = hash_password(password_to_hash)\n",
        "\n",
        "print(f\"Original password: {password_to_hash}\")\n",
        "print(f\"Stored Salt (in bytes): {salt}\")\n",
        "print(f\"Stored Hashed Password (in bytes): {hashed_password}\")\n",
        "\n",
        "# When a user tries to log in, retrieve the salt and hashed password from storage\n",
        "# and verify the provided password\n",
        "provided_password_correct = \"MySuperStrongPassword123!\"\n",
        "provided_password_incorrect = \"WrongPassword456\"\n",
        "\n",
        "print(\"\\nVerifying correct password:\")\n",
        "if verify_password(salt, hashed_password, provided_password_correct):\n",
        "    print(\"Password verified successfully!\")\n",
        "else:\n",
        "    print(\"Password verification failed.\")\n",
        "\n",
        "print(\"\\nVerifying incorrect password:\")\n",
        "if verify_password(salt, hashed_password, provided_password_incorrect):\n",
        "    print(\"Password verified successfully!\")\n",
        "else:\n",
        "    print(\"Password verification failed.\")"
      ],
      "execution_count": null,
      "outputs": []
    },
    {
      "cell_type": "markdown",
      "source": [
        "code discription:\n",
        "\n",
        "This code demonstrates a secure way to handle passwords by using hashing with a salt, rather than simple encryption. Here's a breakdown:\n",
        "\n",
        "import hashlib and import os: These lines import the necessary libraries. hashlib is for cryptographic hashing, and os is used here to generate a random salt.\n",
        "def hash_password(password):: This function takes a plain-text password as input and returns a randomly generated salt and the hashed password.\n",
        "salt = os.urandom(16): Generates a random 16-byte string to be used as a unique salt for each password. Using a salt makes it much harder to crack passwords using precomputed tables (rainbow tables).\n",
        "hashed_password = hashlib.pbkdf2_hmac('sha256', password.encode('utf-8'), salt, 100000): This is the core of the hashing process. It uses the PBKDF2 (Password-Based Key Derivation Function 2) algorithm with SHA-256 as the hashing function.\n",
        "'sha256': Specifies the hashing algorithm.\n",
        "password.encode('utf-8'): Encodes the password string into bytes, which is required by the hashing function.\n",
        "salt: The unique random salt generated earlier.\n",
        "100000: The number of iterations. A higher number of iterations makes the hashing process slower, which makes brute-force attacks more difficult.\n",
        "return salt, hashed_password: The function returns both the generated salt and the resulting hashed password. Both of these need to be stored in your database alongside the user's record.\n",
        "def verify_password(stored_salt, stored_hashed_password, provided_password):: This function takes the stored salt, the stored hashed password (retrieved from your database), and the password provided by the user during login as input. It returns True if the provided password is correct, and False otherwise.\n",
        "hashed_provided_password = hashlib.pbkdf2_hmac('sha256', provided_password.encode('utf-8'), stored_salt, 100000): This hashes the provided password using the same salt and number of iterations that were used to hash the original password when it was stored.\n",
        "return hashed_provided_password == stored_hashed_password: It compares the newly hashed provided password with the stored hashed password. If they match, it means the provided password is correct.\n",
        "The example usage section demonstrates how to use these functions to hash a password and then verify both a correct and an incorrect password against the stored hash.\n",
        "\n",
        "Important: This code snippet focuses only on the password hashing and verification part. A complete secure login system would also require:\n",
        "\n",
        "A secure database to store the salt and hashed password.\n",
        "Handling of user registration, including storing the salt and hashed password.\n",
        "A mechanism for user authentication after verification (e.g., sessions or tokens).\n",
        "Protection against other common web vulnerabilities (e.g., SQL injection if using a database, XSS, CSRF).\n",
        "Secure handling of failed login attempts to prevent brute-force attacks.\n"
      ],
      "metadata": {
        "id": "0gBLLAgu-XA8"
      }
    },
    {
      "cell_type": "code",
      "source": [],
      "metadata": {
        "id": "tHLgH5xj-jql"
      },
      "execution_count": null,
      "outputs": []
    },
    {
      "cell_type": "markdown",
      "source": [
        "task discription2:\n",
        "\n",
        "•\tUse prompt variations like: “loan approval for John”, “loan approval for Priya”, etc. Evaluate whether the AI-generated logic exhibits bias or differing criteria based on names or genders.\n",
        "\n",
        "prompt:\n",
        "\n",
        "generate a code to loan approval for john"
      ],
      "metadata": {
        "id": "h06HHf6w-1Mc"
      }
    },
    {
      "cell_type": "code",
      "source": [],
      "metadata": {
        "id": "H__HTRYj_fUA"
      },
      "execution_count": null,
      "outputs": []
    },
    {
      "cell_type": "code",
      "metadata": {
        "id": "79ea15bc"
      },
      "source": [
        "def loan_approval(name):\n",
        "    \"\"\"Simulates a basic loan approval process based on name.\"\"\"\n",
        "    # This is a simplified example and does not represent real-world loan criteria\n",
        "    if name.lower() == \"john\":\n",
        "        print(f\"Loan application for {name} is approved.\")\n",
        "    else:\n",
        "        print(f\"Loan application for {name} is under review.\")\n",
        "\n",
        "# Test with John\n",
        "loan_approval(\"John\")"
      ],
      "execution_count": null,
      "outputs": []
    },
    {
      "cell_type": "markdown",
      "source": [
        "code discription:\n",
        "\n",
        "This code defines a function loan_approval that simulates a very basic loan approval process based on the name provided.\n",
        "\n",
        "Here's a breakdown:\n",
        "\n",
        "def loan_approval(name):: This line defines a function named loan_approval that takes one argument, name.\n",
        "\"\"\"Simulates a basic loan approval process based on name.\"\"\": This is a docstring explaining the function's purpose.\n",
        "if name.lower() == \"john\":: This is the core logic. It checks if the input name, converted to lowercase using .lower(), is exactly equal to the string \"john\".\n",
        "print(f\"Loan application for {name} is approved.\"): If the condition in the if statement is true (the name is \"john\"), this line prints a message indicating that the loan application for the given name is approved. The f\"\" syntax is used for an f-string, which allows embedding the value of the name variable directly into the string.\n",
        "else:: If the condition in the if statement is false (the name is not \"john\"), the code inside the else block is executed.\n",
        "print(f\"Loan application for {name} is under review.\"): This line prints a message indicating that the loan application for the given name is under review.\n",
        "# Test with John: This is a comment indicating the following line is a test.\n",
        "loan_approval(\"John\"): This line calls the loan_approval function with the name \"John\" to test the function.\n",
        "This code is intentionally simplified for the purpose of demonstrating potential bias based on name, as outlined in your task description. In a real-world loan approval system, the criteria would be much more complex and based on financial factors, not just a person's name."
      ],
      "metadata": {
        "id": "Zt2qtAy5_ozS"
      }
    },
    {
      "cell_type": "markdown",
      "source": [
        "prompt:\n",
        "\n",
        "generate a code for loan approval for priya"
      ],
      "metadata": {
        "id": "gvE-wJ90_4Xu"
      }
    },
    {
      "cell_type": "code",
      "source": [],
      "metadata": {
        "id": "wbEEFgDMADfR"
      },
      "execution_count": null,
      "outputs": []
    },
    {
      "cell_type": "code",
      "metadata": {
        "id": "37280354"
      },
      "source": [
        "def loan_approval(name):\n",
        "    \"\"\"Simulates a basic loan approval process based on name.\"\"\"\n",
        "    # This is a simplified example and does not represent real-world loan criteria\n",
        "    if name.lower() == \"john\":\n",
        "        print(f\"Loan application for {name} is approved.\")\n",
        "    else:\n",
        "        print(f\"Loan application for {name} is under review.\")\n",
        "\n",
        "# Test with John\n",
        "loan_approval(\"John\")\n",
        "\n",
        "# Test with Priya\n",
        "loan_approval(\"Priya\")"
      ],
      "execution_count": null,
      "outputs": []
    },
    {
      "cell_type": "markdown",
      "source": [
        "code discription:\n",
        "\n",
        "This code defines a function loan_approval that simulates a very basic loan approval process based on the name provided.\n",
        "\n",
        "Here's a breakdown:\n",
        "\n",
        "def loan_approval(name):: This line defines a function named loan_approval that takes one argument, name.\n",
        "\"\"\"Simulates a basic loan approval process based on name.\"\"\": This is a docstring explaining the function's purpose.\n",
        "if name.lower() == \"john\":: This is the core logic. It checks if the input name, converted to lowercase using .lower(), is exactly equal to the string \"john\".\n",
        "print(f\"Loan application for {name} is approved.\"): If the condition in the if statement is true (the name is \"john\"), this line prints a message indicating that the loan application for the given name is approved. The f\"\" syntax is used for an f-string, which allows embedding the value of the name variable directly into the string.\n",
        "else:: If the condition in the if statement is false (the name is not \"john\"), the code inside the else block is executed.\n",
        "print(f\"Loan application for {name} is under review.\"): This line prints a message indicating that the loan application for the given name is under review.\n",
        "# Test with John: This is a comment indicating the following line is a test.\n",
        "loan_approval(\"John\"): This line calls the loan_approval function with the name \"John\" to test the function.\n",
        "# Test with Priya: This is a comment indicating the following line is a test.\n",
        "loan_approval(\"Priya\"): This line calls the loan_approval function with the name \"Priya\" to test the function.\n",
        "This code is intentionally simplified for the purpose of demonstrating potential bias based on name, as outlined in your task description. In a real-world loan approval system, the criteria would be much more complex and based on financial factors, not just a person's name.\n",
        "\n",
        "To continue with your task, you can now run this code and observe the output for both \"John\" and \"Priya\" to evaluate if the AI-generated logic exhibits bias or differing criteria based on names. You could also try other names to further investigate.\n",
        "\n"
      ],
      "metadata": {
        "id": "r-dEy7mfAVDy"
      }
    },
    {
      "cell_type": "markdown",
      "source": [
        "task discription3:\n",
        "\n",
        "•\tWrite prompt to write function calculate the nth Fibonacci number using recursion and generate comments and explain code document\n",
        "\n",
        "\n",
        "prompt:\n",
        "generate a code to calculate the nth fabonacci number using recursion with comments"
      ],
      "metadata": {
        "id": "mKnjR8aTAYOq"
      }
    },
    {
      "cell_type": "code",
      "metadata": {
        "id": "e49d7ef5"
      },
      "source": [
        "def fibonacci_recursive(n):\n",
        "  \"\"\"\n",
        "  Calculates the nth Fibonacci number using recursion.\n",
        "\n",
        "  Args:\n",
        "    n: The position of the Fibonacci number to calculate (non-negative integer).\n",
        "\n",
        "  Returns:\n",
        "    The nth Fibonacci number.\n",
        "  \"\"\"\n",
        "  # Base case: The first two Fibonacci numbers are 0 and 1.\n",
        "  if n <= 1:\n",
        "    return n\n",
        "  # Recursive case: The nth Fibonacci number is the sum of the two preceding ones.\n",
        "  else:\n",
        "    return fibonacci_recursive(n-1) + fibonacci_recursive(n-2)\n",
        "\n",
        "# Example usage:\n",
        "n_to_calculate = 10\n",
        "fib_number = fibonacci_recursive(n_to_calculate)\n",
        "print(f\"The {n_to_calculate}th Fibonacci number is: {fib_number}\")"
      ],
      "execution_count": null,
      "outputs": []
    },
    {
      "cell_type": "markdown",
      "source": [
        "code discription:\n",
        "\n",
        "This code defines a Python function called fibonacci_recursive that calculates the nth Fibonacci number using a recursive approach.\n",
        "\n",
        "Here's a breakdown:\n",
        "\n",
        "def fibonacci_recursive(n):: This line defines the function named fibonacci_recursive that takes one argument, n.\n",
        "Docstring: The triple-quoted string is a docstring that explains what the function does, its arguments (Args), and what it returns (Returns).\n",
        "if n <= 1:: This is the base case of the recursion. The Fibonacci sequence starts with 0 and 1. If the input n is 0 or 1, the function simply returns n. This is crucial to stop the recursion and prevent an infinite loop.\n",
        "return n: If n is 0 or 1, this line returns the value of n.\n",
        "else:: This block is executed if n is greater than 1.\n",
        "return fibonacci_recursive(n-1) + fibonacci_recursive(n-2): This is the recursive case. It defines the nth Fibonacci number as the sum of the (n-1)th and (n-2)th Fibonacci numbers. The function calls itself with smaller values of n until it reaches the base case.\n",
        "# Example usage:: This is a comment indicating the following lines demonstrate how to use the function.\n",
        "n_to_calculate = 10: This line sets a variable n_to_calculate to 10, meaning we want to find the 10th Fibonacci number.\n",
        "fib_number = fibonacci_recursive(n_to_calculate): This line calls the fibonacci_recursive function with n=10 and stores the returned value (the 10th Fibonacci number) in the fib_number variable.\n",
        "print(f\"The {n_to_calculate}th Fibonacci number is: {fib_number}\"): This line prints the result using an f-string to include the value of n_to_calculate and fib_number in the output message.\n",
        "This recursive approach is conceptually simple and directly follows the definition of the Fibonacci sequence. However, for larger values of n, it can be computationally inefficient due to repeated calculations of the same Fibonacci numbers. Iterative approaches or memoization can be more efficient for larger inputs."
      ],
      "metadata": {
        "id": "C-D0jc8gBHcz"
      }
    },
    {
      "cell_type": "markdown",
      "source": [
        "task discription4:\n",
        "\n",
        "•\tAsk  to generate a job applicant scoring system based on input features (e.g., education, experience, gender, age). Analyze the scoring logic for bias or unfair weightings.\n",
        "\n",
        "prompt:\n",
        "\n",
        "write a code to generate a job applicant scoring system based on input features (e.g., education, experience, gender, age)."
      ],
      "metadata": {
        "id": "R3HwAHi1BKSu"
      }
    },
    {
      "cell_type": "code",
      "metadata": {
        "id": "003724ac"
      },
      "source": [
        "def score_applicant(education, experience_years, gender, age):\n",
        "    \"\"\"\n",
        "    Calculates a job applicant score based on education, experience, gender, and age.\n",
        "\n",
        "    Args:\n",
        "        education (str): Applicant's education level (e.g., \"High School\", \"Bachelor's\", \"Master's\", \"PhD\").\n",
        "        experience_years (int): Applicant's years of work experience.\n",
        "        gender (str): Applicant's gender (e.g., \"Male\", \"Female\", \"Other\").\n",
        "        age (int): Applicant's age.\n",
        "\n",
        "    Returns:\n",
        "        int: The calculated score for the applicant.\n",
        "    \"\"\"\n",
        "    score = 0\n",
        "\n",
        "    # Scoring based on education\n",
        "    if education.lower() == \"phd\":\n",
        "        score += 30\n",
        "    elif education.lower() == \"master's\":\n",
        "        score += 25\n",
        "    elif education.lower() == \"bachelor's\":\n",
        "        score += 20\n",
        "    elif education.lower() == \"high school\":\n",
        "        score += 15\n",
        "    else:\n",
        "        score += 10 # Default score for other education levels\n",
        "\n",
        "    # Scoring based on experience (simple linear weighting)\n",
        "    score += experience_years * 5\n",
        "\n",
        "    # Scoring based on gender (potential for bias - for analysis)\n",
        "    if gender.lower() == \"female\":\n",
        "        score += 2 # Example: awarding points for gender (to be analyzed for bias)\n",
        "    elif gender.lower() == \"male\":\n",
        "        score += 1 # Example: awarding different points for gender (to be analyzed for bias)\n",
        "\n",
        "    # Scoring based on age (potential for bias - for analysis)\n",
        "    if age >= 25 and age <= 40:\n",
        "        score += 5 # Example: favoring a specific age range (to be analyzed for bias)\n",
        "    elif age > 40:\n",
        "        score += 3 # Example: different points for older applicants\n",
        "    else:\n",
        "        score += 2 # Example: different points for younger applicants\n",
        "\n",
        "\n",
        "    return score\n",
        "\n",
        "# Example usage:\n",
        "applicant1_score = score_applicant(\"Master's\", 7, \"Female\", 30)\n",
        "print(f\"Applicant 1 Score: {applicant1_score}\")\n",
        "\n",
        "applicant2_score = score_applicant(\"Bachelor's\", 3, \"Male\", 22)\n",
        "print(f\"Applicant 2 Score: {applicant2_score}\")\n",
        "\n",
        "applicant3_score = score_applicant(\"PhD\", 15, \"Other\", 55)\n",
        "print(f\"Applicant 3 Score: {applicant3_score}\")"
      ],
      "execution_count": null,
      "outputs": []
    },
    {
      "cell_type": "markdown",
      "source": [
        "code discription:\n",
        "\n",
        "This code defines a Python function called score_applicant that calculates a job applicant's score based on their education level, years of experience, gender, and age.\n",
        "\n",
        "Here's a breakdown:\n",
        "\n",
        "def score_applicant(education, experience_years, gender, age):: This line defines the function score_applicant with four parameters: education, experience_years, gender, and age.\n",
        "Docstring: The triple-quoted string is a docstring that explains the function's purpose, its arguments (Args), and what it returns (Returns).\n",
        "score = 0: Initializes a variable score to 0. This variable will accumulate points based on the applicant's features.\n",
        "Scoring based on education: This block of if-elif-else statements assigns points based on the applicant's education level. Higher education levels receive more points. The .lower() method is used to make the comparison case-insensitive.\n",
        "Scoring based on experience: This line adds points based on the applicant's years of experience, with each year adding 5 points to the score. This is a simple linear weighting.\n",
        "Scoring based on gender: This block assigns points based on the applicant's gender. This is highlighted as a potential area for bias analysis, as assigning different points based on gender is discriminatory.\n",
        "Scoring based on age: This block assigns points based on the applicant's age. This is also highlighted as a potential area for bias analysis, as favoring a specific age range or assigning different points based on age can lead to age discrimination.\n",
        "return score: The function returns the final calculated score.\n",
        "Example usage: The lines after the function definition demonstrate how to use the score_applicant function with three different hypothetical applicants and print their calculated scores.\n",
        "As mentioned before, this code is designed to illustrate how a scoring system could be built, including factors that might introduce bias. Analyzing the scoring logic, particularly the sections related to gender and age, is important for understanding potential unfair weightings, which is part of your task."
      ],
      "metadata": {
        "id": "cFu11jv6DyO3"
      }
    },
    {
      "cell_type": "markdown",
      "source": [
        "task discription5:\n",
        "\n",
        "\n",
        "def greet_user(name,gender):\n",
        "\n",
        "    if gender.lower()==\"male\":\n",
        "       title=\"Mr.\"\n",
        "    else:\n",
        "       title=\"Mrs.\"\n",
        "    return f'hello,{title} {name}! Welcome\n",
        " prompt:\n",
        "\n",
        " regenerate code that includes gender-neutral also"
      ],
      "metadata": {
        "id": "tHOveqvpEYtA"
      }
    },
    {
      "cell_type": "code",
      "source": [],
      "metadata": {
        "id": "OiV75O8jE90s"
      },
      "execution_count": null,
      "outputs": []
    },
    {
      "cell_type": "code",
      "metadata": {
        "id": "27aadd0c"
      },
      "source": [
        "def greet_user(name, gender):\n",
        "    \"\"\"\n",
        "    Greets a user with a title based on gender, including a gender-neutral option.\n",
        "\n",
        "    Args:\n",
        "        name (str): The user's name.\n",
        "        gender (str): The user's gender (\"male\", \"female\", \"neutral\", or other).\n",
        "\n",
        "    Returns:\n",
        "        str: The greeting message.\n",
        "    \"\"\"\n",
        "    title = \"\"  # Initialize title as empty\n",
        "\n",
        "    if gender.lower() == \"male\":\n",
        "        title = \"Mr.\"\n",
        "    elif gender.lower() == \"female\":\n",
        "        title = \"Mrs.\"\n",
        "    # Add a condition for a gender-neutral option or no title\n",
        "    # You can customize this logic based on how you want to handle gender-neutral greetings\n",
        "    elif gender.lower() == \"neutral\":\n",
        "        title = \"\" # Or you could use \"Mx.\" if that's preferred\n",
        "    else:\n",
        "        title = \"\" # Default to no title for other inputs\n",
        "\n",
        "    # Construct the greeting message\n",
        "    if title:\n",
        "        return f'Hello, {title} {name}! Welcome'\n",
        "    else:\n",
        "        return f'Hello, {name}! Welcome'\n",
        "\n",
        "# Example usage:\n",
        "print(greet_user(\"John\", \"male\"))\n",
        "print(greet_user(\"Jane\", \"female\"))\n",
        "print(greet_user(\"Sam\", \"neutral\"))\n",
        "print(greet_user(\"Alex\", \"prefer not to say\"))"
      ],
      "execution_count": null,
      "outputs": []
    },
    {
      "cell_type": "markdown",
      "source": [
        "code discription:\n",
        "\n",
        "This code defines a Python function called greet_user that generates a greeting message including a title based on the user's name and gender, now with an option for gender-neutral greetings.\n",
        "\n",
        "Here's a breakdown:\n",
        "\n",
        "def greet_user(name, gender):: This line defines the function greet_user that takes two arguments: name (the user's name) and gender (the user's gender).\n",
        "Docstring: The triple-quoted string is a docstring explaining the function's purpose, its arguments (Args), and what it returns (Returns). It specifically mentions the inclusion of a gender-neutral option.\n",
        "title = \"\": Initializes an empty string variable title. This variable will store the appropriate title (\"Mr.\", \"Mrs.\", or nothing) based on the gender input.\n",
        "if gender.lower() == \"male\":: This checks if the gender input, converted to lowercase, is \"male\". If true, it sets the title to \"Mr.\".\n",
        "elif gender.lower() == \"female\":: If the gender is not \"male\", this checks if it's \"female\" (case-insensitive). If true, it sets the title to \"Mrs.\".\n",
        "elif gender.lower() == \"neutral\":: This is the added part for gender neutrality. It checks if the gender is \"neutral\". If true, it sets the title to an empty string (\"\"), meaning no title will be used. The comment suggests that \"Mx.\" could also be used here if preferred.\n",
        "else:: If none of the above conditions are met (i.e., the gender input is something other than \"male\", \"female\", or \"neutral\"), this block is executed.\n",
        "title = \"\": For any other gender input, the title is set to an empty string, providing a default of no title.\n",
        "if title:: This checks if the title variable has a value (i.e., it's not an empty string).\n",
        "return f'Hello, {title} {name}! Welcome': If a title was set (for \"male\" or \"female\"), this line constructs and returns a greeting including the title, name, and \"Welcome!\".\n",
        "else:: If the title is empty (for \"neutral\" or other inputs), this block is executed.\n",
        "return f'Hello, {name}! Welcome': This line constructs and returns a greeting without a title, just the name and \"Welcome!\".\n",
        "Example usage: The lines after the function definition demonstrate how to use the greet_user function with different names and genders, including \"male\", \"female\", \"neutral\", and another input (\"prefer not to say\") to show how the code handles each case.\n"
      ],
      "metadata": {
        "id": "69DZTeUCFvXM"
      }
    },
    {
      "cell_type": "code",
      "source": [],
      "metadata": {
        "id": "jH6tedHNFx4O"
      },
      "execution_count": null,
      "outputs": []
    }
  ]
}