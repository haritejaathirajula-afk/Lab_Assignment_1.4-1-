{
  "nbformat": 4,
  "nbformat_minor": 0,
  "metadata": {
    "colab": {
      "provenance": [],
      "authorship_tag": "ABX9TyMEfnQZFeRnbLPIv5y7Psbv",
      "include_colab_link": true
    },
    "kernelspec": {
      "name": "python3",
      "display_name": "Python 3"
    },
    "language_info": {
      "name": "python"
    }
  },
  "cells": [
    {
      "cell_type": "markdown",
      "metadata": {
        "id": "view-in-github",
        "colab_type": "text"
      },
      "source": [
        "<a href=\"https://colab.research.google.com/github/haritejaathirajula-afk/Lab_Assignment_1.4-1-/blob/main/lab2_4.ipynb\" target=\"_parent\"><img src=\"https://colab.research.google.com/assets/colab-badge.svg\" alt=\"Open In Colab\"/></a>"
      ]
    },
    {
      "cell_type": "code",
      "execution_count": null,
      "metadata": {
        "id": "ql8se02cNxSx"
      },
      "outputs": [],
      "source": []
    },
    {
      "cell_type": "markdown",
      "source": [
        "Task Description 1\n",
        "write python code that sorts a list in two ways:\n",
        "1.using bubble sort algorithm\n",
        "2.using python's built-in sort() method\n",
        "print both sorted lists for comparison\n",
        "prompt: generate two python codes to sort a list in two ways. one is bubble sort algorithm and sort() method\n",
        "\n"
      ],
      "metadata": {
        "id": "3lZpq5QISUJ2"
      }
    },
    {
      "cell_type": "markdown",
      "source": [],
      "metadata": {
        "id": "H4U61yanQsVG"
      }
    },
    {
      "cell_type": "code",
      "metadata": {
        "id": "f877dc3d"
      },
      "source": [
        "# Bubble Sort algorithm\n",
        "def bubble_sort(arr):\n",
        "    n = len(arr)\n",
        "    for i in range(n):\n",
        "        for j in range(0, n - i - 1):\n",
        "            if arr[j] > arr[j + 1]:\n",
        "                arr[j], arr[j + 1] = arr[j + 1], arr[j]\n",
        "    return arr\n",
        "\n",
        "# Example list\n",
        "my_list = [64, 34, 25, 12, 22, 11, 90]\n",
        "\n",
        "bubble_sorted_list = bubble_sort(my_list.copy()) # Use a copy to avoid modifying the original list\n",
        "print(\"Bubble Sorted List:\", bubble_sorted_list)"
      ],
      "execution_count": null,
      "outputs": []
    },
    {
      "cell_type": "code",
      "metadata": {
        "id": "380b7cc9"
      },
      "source": [
        "# Using Python's built-in sort() method\n",
        "my_list = [64, 34, 25, 12, 22, 11, 90] # Re-initialize the list\n",
        "\n",
        "my_list.sort()\n",
        "print(\"Built-in sort() List:\", my_list)"
      ],
      "execution_count": null,
      "outputs": []
    },
    {
      "cell_type": "markdown",
      "source": [
        "1. Code Description of bubble sort algorithm:\n",
        "In line one a funtion is defined with name bubble_sort and single argument which takes the input a list.length of arr is stored in n.for i in range(n):: This outer loop iterates n times, where n is the number of elements in the list. In each iteration of the outer loop, the largest unsorted element \"bubbles up\" to its correct position at the end of the unsorted portion of the list.\n",
        "for j in range(0, n - i - 1):: This inner loop iterates through the unsorted portion of the list. The range (0, n - i - 1) shrinks in each iteration of the outer loop because the elements at the end of the list become sorted.\n",
        "if arr[j] > arr[j + 1]:: This condition checks if the current element (arr[j]) is greater than the next element (arr[j + 1]).\n",
        "arr[j], arr[j + 1] = arr[j + 1], arr[j]: If the condition is true (the elements are in the wrong order), this line swaps the positions of the two elements. This process of comparing and swapping adjacent elements is what gives bubble sort its name.\n",
        "example description:\n",
        "a list is defined with name my_list and sorted with bubble sort algorithm .print the output\n",
        "2. Code Description of sort()method:\n",
        "my_list = [64, 34, 25, 12, 22, 11, 90]: This line re-initializes the list my_list with a new set of elements. This is done here to ensure that the list is unsorted before applying the sort() method, allowing you to see the sorting effect.\n",
        "my_list.sort(): This is the core of the snippet. The .sort() method is a built-in method for lists in Python. When called on a list, it sorts the elements of that list in ascending order in place. This means that the original list my_list is modified directly, and the sorted list is stored in my_list itself, without creating a new list.\n",
        "print(\"Built-in sort() List:\", my_list): This line prints the string \"Built-in sort() List:\" followed by the now-sorted my_list. This allows you to see the result of applying the sort() method."
      ],
      "metadata": {
        "id": "I29hMXtbT_Gw"
      }
    },
    {
      "cell_type": "markdown",
      "source": [
        "task description 2:\n",
        "Write a Python function that takes a string and returns:\n",
        "1. Number of vowels\n",
        "2. Number of consonants\n",
        "3. Number of digits\n",
        "Test the function with an example string and print the results\n",
        "\n",
        "prompt:\n",
        "generate three python codes to take  input as a string and gives first code output as number of vowels. second code output as number of consonants. third code output as number of digits.\n"
      ],
      "metadata": {
        "id": "ysshR6fkW31A"
      }
    },
    {
      "cell_type": "code",
      "source": [],
      "metadata": {
        "id": "4pHBjacUWc2A"
      },
      "execution_count": null,
      "outputs": []
    },
    {
      "cell_type": "code",
      "metadata": {
        "id": "0656dc50"
      },
      "source": [
        "# Code to count vowels in a string\n",
        "def count_vowels(input_string):\n",
        "    vowels = \"aeiouAEIOU\"\n",
        "    vowel_count = 0\n",
        "    for char in input_string:\n",
        "        if char in vowels:\n",
        "            vowel_count += 1\n",
        "    return vowel_count\n",
        "\n",
        "# Example usage\n",
        "test_string = \"Hello World 123\"\n",
        "num_vowels = count_vowels(test_string)\n",
        "print(f\"Number of vowels: {num_vowels}\")"
      ],
      "execution_count": null,
      "outputs": []
    },
    {
      "cell_type": "code",
      "metadata": {
        "id": "9923cc19"
      },
      "source": [
        "# Code to count consonants in a string\n",
        "def count_consonants(input_string):\n",
        "    vowels = \"aeiouAEIOU\"\n",
        "    consonant_count = 0\n",
        "    for char in input_string:\n",
        "        if char.isalpha() and char not in vowels:\n",
        "            consonant_count += 1\n",
        "    return consonant_count\n",
        "\n",
        "# Example usage\n",
        "test_string = \"Hello World 123\"\n",
        "num_consonants = count_consonants(test_string)\n",
        "print(f\"Number of consonants: {num_consonants}\")"
      ],
      "execution_count": null,
      "outputs": []
    },
    {
      "cell_type": "code",
      "metadata": {
        "id": "c6c2c51a"
      },
      "source": [
        "# Code to count digits in a string\n",
        "def count_digits(input_string):\n",
        "    digit_count = 0\n",
        "    for char in input_string:\n",
        "        if char.isdigit():\n",
        "            digit_count += 1\n",
        "    return digit_count\n",
        "\n",
        "# Example usage\n",
        "test_string = \"Hello World 123\"\n",
        "num_digits = count_digits(test_string)\n",
        "print(f\"Number of digits: {num_digits}\")"
      ],
      "execution_count": null,
      "outputs": []
    },
    {
      "cell_type": "markdown",
      "source": [
        "1. Code Description of number of vowels:\n",
        "def count_vowels(input_string):: This line defines a function named count_vowels that takes one argument, input_string.\n",
        "vowels = \"aeiouAEIOU\": This line creates a string vowels containing all lowercase and uppercase vowel characters. This string is used to check if a character is a vowel.\n",
        "vowel_count = 0: This line initializes a variable vowel_count to 0. This variable will keep track of the number of vowels found in the input string.\n",
        "for char in input_string:: This line starts a for loop that iterates through each character in the input_string.\n",
        "if char in vowels:: Inside the loop, this line checks if the current character char is present in the vowels string. If it is, the character is a vowel.\n",
        "vowel_count += 1: If the character is a vowel, this line increments the vowel_count by 1.\n",
        "return vowel_count: After the loop finishes iterating through all the characters in the string, this line returns the final vowel_count.\n",
        "The remaining lines show an example of how to use the count_vowels function:\n",
        "\n",
        "test_string = \"Hello World 123\": This line creates a sample string test_string to test the function.\n",
        "num_vowels = count_vowels(test_string): This line calls the count_vowels function with test_string as input and stores the returned vowel count in the num_vowels variable.\n",
        "print(f\"Number of vowels: {num_vowels}\"): This line prints the number of vowels found in the test_string using an f-string for formatted output.\n",
        "2. Code Description of number of consonants:\n",
        "def count_consonants(input_string):: This line defines a function named count_consonants that takes one argument, input_string.\n",
        "vowels = \"aeiouAEIOU\": This line creates a string vowels containing all lowercase and uppercase vowel characters. This is used to exclude vowels when counting consonants.\n",
        "consonant_count = 0: This line initializes a variable consonant_count to 0. This variable will keep track of the number of consonants found in the input string.\n",
        "for char in input_string:: This line starts a for loop that iterates through each character in the input_string.\n",
        "if char.isalpha() and char not in vowels:: Inside the loop, this line checks two conditions for the current character char:\n",
        "char.isalpha(): This checks if the character is an alphabet letter (a-z or A-Z).\n",
        "char not in vowels: This checks if the character is not present in the vowels string.\n",
        "Both conditions must be true for the character to be considered a consonant.\n",
        "consonant_count += 1: If both conditions are true (the character is an alphabet letter and not a vowel), this line increments the consonant_count by 1.\n",
        "return consonant_count: After the loop finishes iterating through all the characters in the string, this line returns the final consonant_count.\n",
        "The remaining lines show an example of how to use the count_consonants function:\n",
        "\n",
        "test_string = \"Hello World 123\": This line creates a sample string test_string to test the function.\n",
        "num_consonants = count_consonants(test_string): This line calls the count_consonants function with test_string as input and stores the returned consonant count in the num_consonants variable.\n",
        "print(f\"Number of consonants: {num_consonants}\"): This line prints the number of consonants found in the test_string using an f-string for formatted output.\n",
        "3. Task Description of number of digits:\n",
        "def count_digits(input_string):: This line defines a function named count_digits that takes one argument, input_string.\n",
        "digit_count = 0: This line initializes a variable digit_count to 0. This variable will store the number of digits found in the input string.\n",
        "for char in input_string:: This line starts a for loop that iterates through each character in the input_string.\n",
        "if char.isdigit():: Inside the loop, this line checks if the current character char is a digit (0-9) using the built-in string method .isdigit().\n",
        "digit_count += 1: If the character is a digit, this line increments the digit_count by 1.\n",
        "return digit_count: After the loop has processed all the characters in the string, this line returns the final digit_count.\n",
        "The remaining lines demonstrate how to use the count_digits function:\n",
        "\n",
        "test_string = \"Hello World 123\": This line creates a sample string test_string containing letters, spaces, and digits.\n",
        "num_digits = count_digits(test_string): This line calls the count_digits function with test_string as input and stores the returned count of digits in the num_digits variable.\n",
        "print(f\"Number of digits: {num_digits}\"): This line prints the string \"Number of digits:\" followed by the value of num_digits using an f-string for formatted output.\n",
        "In summary, this code efficiently counts the digits in a string by iterating through each character and using the .isdigit() method to identify and count the numerical characters."
      ],
      "metadata": {
        "id": "NPjb4nA_Y7s7"
      }
    },
    {
      "cell_type": "markdown",
      "source": [
        "Task Description 3:\n",
        "\n",
        "Write Python code to:\n",
        "1. Create a text file\n",
        "2. Write some sample text into it\n",
        "3. Read the text from the file and display it\n",
        "\n",
        "prompt:generate a python code to create a text file and write some sample text into it and read the text from the file and display it .\n"
      ],
      "metadata": {
        "id": "NPtHX03WagRT"
      }
    },
    {
      "cell_type": "code",
      "source": [],
      "metadata": {
        "id": "5K6rDh2iaIBB"
      },
      "execution_count": null,
      "outputs": []
    },
    {
      "cell_type": "code",
      "metadata": {
        "id": "9ce42e37"
      },
      "source": [
        "# Code to create a text file, write to it, and read from it\n",
        "file_name = \"sample.txt\"\n",
        "sample_text = \"This is some sample text that will be written to the file.\\nThis is the second line.\"\n",
        "\n",
        "# Create and write to the file\n",
        "try:\n",
        "    with open(file_name, \"w\") as file:\n",
        "        file.write(sample_text)\n",
        "    print(f\"Successfully wrote to {file_name}\")\n",
        "except IOError as e:\n",
        "    print(f\"Error writing to file: {e}\")\n",
        "\n",
        "# Read from the file and display content\n",
        "try:\n",
        "    with open(file_name, \"r\") as file:\n",
        "        file_content = file.read()\n",
        "    print(f\"\\nContent of {file_name}:\")\n",
        "    print(file_content)\n",
        "except IOError as e:\n",
        "    print(f\"Error reading from file: {e}\")"
      ],
      "execution_count": null,
      "outputs": []
    },
    {
      "cell_type": "markdown",
      "source": [
        "1. Code Description:\n",
        "file_name = \"sample.txt\": This line assigns the string \"sample.txt\" to the variable file_name. This will be the name of the text file created.\n",
        "sample_text = \"This is some sample text that will be written to the file.\\nThis is the second line.\": This line assigns a multi-line string to the variable sample_text. This is the content that will be written into the file. The \\n creates a newline character, so the text will appear on two lines in the file.\n",
        "# Create and write to the file: This is a comment indicating the start of the file writing section.\n",
        "try...except IOError as e:: This is a try...except block, which is used for error handling. It attempts to execute the code within the try block. If an IOError (Input/Output Error) occurs during the file operation (like permissions issues or disk full), the code within the except block will be executed, printing an error message.\n",
        "with open(file_name, \"w\") as file:: This is a with statement used for opening files. It ensures that the file is properly closed even if errors occur.\n",
        "open(file_name, \"w\"): This opens the file specified by file_name in \"write mode\" (\"w\"). If the file doesn't exist, it will be created. If it does exist, its contents will be overwritten.\n",
        "as file:: This assigns the opened file object to the variable file.\n",
        "file.write(sample_text): This line writes the content of the sample_text variable into the opened file.\n",
        "print(f\"Successfully wrote to {file_name}\"): If the writing is successful, this line prints a confirmation message.\n",
        "# Read from the file and display content: This is a comment indicating the start of the file reading section.\n",
        "try...except IOError as e:: Another try...except block for handling potential IOError during the file reading process.\n",
        "with open(file_name, \"r\") as file:: This opens the file specified by file_name in \"read mode\" (\"r\").\n",
        "file_content = file.read(): This line reads the entire content of the opened file and stores it in the file_content variable.\n",
        "print(f\"\\nContent of {file_name}:\"): This line prints a heading before displaying the file content. The \\n adds a newline for better formatting.\n",
        "print(file_content): This line prints the content that was read from the file.\n"
      ],
      "metadata": {
        "id": "8mNMALRsbgbK"
      }
    },
    {
      "cell_type": "code",
      "source": [],
      "metadata": {
        "id": "30VMUWmmcCT6"
      },
      "execution_count": null,
      "outputs": []
    },
    {
      "cell_type": "markdown",
      "source": [
        "Task Description 4:\n",
        "Write a Python program for a simple calculator using functions:\n",
        " - add, subtract, multiply, divide\n",
        " Ask the user to select an operation and enter two numbers\n",
        " Perform the calculation and print the result.\n",
        " prompt:generate a python code for simple calculator using add,subtract,multiply,divide. ask the user to select the operation and enter two numbers\n"
      ],
      "metadata": {
        "id": "1_g4HMuycC4W"
      }
    },
    {
      "cell_type": "code",
      "source": [],
      "metadata": {
        "id": "ugFz6tshcGPZ"
      },
      "execution_count": null,
      "outputs": []
    },
    {
      "cell_type": "code",
      "metadata": {
        "id": "477e0633"
      },
      "source": [
        "def add(x, y):\n",
        "    return x + y\n",
        "\n",
        "def subtract(x, y):\n",
        "    return x - y\n",
        "\n",
        "def multiply(x, y):\n",
        "    return x * y\n",
        "\n",
        "def divide(x, y):\n",
        "    if y == 0:\n",
        "        return \"Error! Division by zero.\"\n",
        "    else:\n",
        "        return x / y\n",
        "\n",
        "print(\"Select operation:\")\n",
        "print(\"1. Add\")\n",
        "print(\"2. Subtract\")\n",
        "print(\"3. Multiply\")\n",
        "print(\"4. Divide\")\n",
        "\n",
        "while True:\n",
        "    choice = input(\"Enter choice(1/2/3/4): \")\n",
        "\n",
        "    if choice in ('1', '2', '3', '4'):\n",
        "        try:\n",
        "            num1 = float(input(\"Enter first number: \"))\n",
        "            num2 = float(input(\"Enter second number: \"))\n",
        "        except ValueError:\n",
        "            print(\"Invalid input. Please enter numbers.\")\n",
        "            continue\n",
        "\n",
        "        if choice == '1':\n",
        "            print(num1, \"+\", num2, \"=\", add(num1, num2))\n",
        "\n",
        "        elif choice == '2':\n",
        "            print(num1, \"-\", num2, \"=\", subtract(num1, num2))\n",
        "\n",
        "        elif choice == '3':\n",
        "            print(num1, \"*\", num2, \"=\", multiply(num1, num2))\n",
        "\n",
        "        elif choice == '4':\n",
        "            print(num1, \"/\", num2, \"=\", divide(num1, num2))\n",
        "        break\n",
        "    else:\n",
        "        print(\"Invalid Input\")"
      ],
      "execution_count": null,
      "outputs": []
    },
    {
      "cell_type": "markdown",
      "source": [
        "Code Description:\n",
        "\n",
        "Function Definitions (add, subtract, multiply, divide):\n",
        "These lines define four functions: add, subtract, multiply, and divide.\n",
        "Each function takes two arguments (x and y) and returns the result of the corresponding arithmetic operation.\n",
        "The divide function includes a check to prevent division by zero, returning an error message if the denominator is 0.\n",
        "Operation Selection Menu:\n",
        "print(\"Select operation:\") and the following print statements display a menu to the user, showing the available operations and their corresponding numbers.\n",
        "User Input Loop (while True:):\n",
        "This while True: loop creates an infinite loop that continues until a valid operation choice and valid numbers are entered.\n",
        "choice = input(\"Enter choice(1/2/3/4): \"): This line prompts the user to enter their choice of operation (1, 2, 3, or 4) and stores the input in the choice variable.\n",
        "Input Validation and Calculation:\n",
        "if choice in ('1', '2', '3', '4'):: This checks if the user's choice is one of the valid options.\n",
        "try...except ValueError:: This block attempts to convert the user's input for the two numbers (num1 and num2) into floating-point numbers using float(input(...)). If the user enters non-numeric input, a ValueError occurs, and the except block is executed, printing an \"Invalid input\" message and continuing the loop (continue) to ask for input again.\n",
        "Conditional Calculations (if choice == '1': etc.): If the input is valid, these if-elif-else statements check the user's choice and call the corresponding function (add, subtract, multiply, or divide) with the entered numbers. The result is then printed in a formatted string.\n",
        "break: Once a valid operation is performed, break is used to exit the while loop.\n",
        "Invalid Input Handling:\n",
        "else:: If the initial if choice in ('1', '2', '3', '4'): condition is false (meaning the user entered something other than 1, 2, 3, or 4), this else block is executed, printing \"Invalid Input\"."
      ],
      "metadata": {
        "id": "n8LqOmggc6DU"
      }
    },
    {
      "cell_type": "code",
      "source": [],
      "metadata": {
        "id": "aYSHjhKbdNiK"
      },
      "execution_count": null,
      "outputs": []
    },
    {
      "cell_type": "markdown",
      "source": [
        "Task Description 5:\n",
        "Write a Python program that checks if a given year is a leap year.\n",
        "prompt:\n",
        "\n",
        "generate a python code that checks if a given year is a leap year.\n",
        "\n"
      ],
      "metadata": {
        "id": "O0N1dxSKdO4I"
      }
    },
    {
      "cell_type": "code",
      "source": [],
      "metadata": {
        "id": "r-SwBCLnpkjX"
      },
      "execution_count": null,
      "outputs": []
    },
    {
      "cell_type": "code",
      "metadata": {
        "id": "0cb0abf6"
      },
      "source": [
        "def is_leap_year(year):\n",
        "  \"\"\"\n",
        "  Checks if a given year is a leap year.\n",
        "\n",
        "  Args:\n",
        "    year: The year to check (integer).\n",
        "\n",
        "  Returns:\n",
        "    True if the year is a leap year, False otherwise.\n",
        "  \"\"\"\n",
        "  # Leap years are divisible by 4\n",
        "  # Exception: Years divisible by 100 are not leap years\n",
        "  # Exception to the exception: Years divisible by 400 are leap years\n",
        "  return (year % 4 == 0 and year % 100 != 0) or (year % 400 == 0)\n",
        "\n",
        "# Example usage:\n",
        "year_to_check = 2024\n",
        "if is_leap_year(year_to_check):\n",
        "  print(f\"{year_to_check} is a leap year.\")\n",
        "else:\n",
        "  print(f\"{year_to_check} is not a leap year.\")\n",
        "\n",
        "year_to_check = 1900\n",
        "if is_leap_year(year_to_check):\n",
        "  print(f\"{year_to_check} is a leap year.\")\n",
        "else:\n",
        "  print(f\"{year_to_check} is not a leap year.\")\n",
        "\n",
        "year_to_check = 2000\n",
        "if is_leap_year(year_to_check):\n",
        "  print(f\"{year_to_check} is a leap year.\")\n",
        "else:\n",
        "  print(f\"{year_to_check} is not a leap year.\")"
      ],
      "execution_count": null,
      "outputs": []
    },
    {
      "cell_type": "markdown",
      "source": [
        "Code Description:\n",
        "\n",
        "def is_leap_year(year):: This line defines a function named is_leap_year that takes one argument, year, which is the year you want to check.\n",
        "Docstring: The triple-quoted text below the function definition is a docstring. It explains what the function does, its arguments, and what it returns. This is good practice for documenting your code.\n",
        "Leap Year Logic:\n",
        "return (year % 4 == 0 and year % 100 != 0) or (year % 400 == 0): This is the core of the leap year check. It implements the rules for determining a leap year:\n",
        "A year is a leap year if it is divisible by 4 (year % 4 == 0).\n",
        "Exception: However, if a year is divisible by 100 (year % 100 == 0), it is not a leap year...\n",
        "Exception to the Exception: ...unless it is also divisible by 400 (year % 400 == 0), in which case it is a leap year.\n",
        "The expression (year % 4 == 0 and year % 100 != 0) checks for years divisible by 4 but not by 100.\n",
        "The expression (year % 400 == 0) checks for years divisible by 400.\n",
        "The or operator combines these two conditions. If either of these conditions is true, the function returns True, indicating that it's a leap year. Otherwise, it returns False.\n",
        "Example Usage:\n",
        "The lines starting with # Example usage: demonstrate how to call the is_leap_year function with different years (2024, 1900, and 2000).\n",
        "An if-else statement is used to print whether the given year_to_check is a leap year or not based on the boolean value returned by the is_leap_year function."
      ],
      "metadata": {
        "id": "xqeteSLYpxhh"
      }
    }
  ]
}